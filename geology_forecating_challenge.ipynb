{
  "metadata": {
    "kernelspec": {
      "language": "python",
      "display_name": "Python 3",
      "name": "python3"
    },
    "language_info": {
      "name": "python",
      "version": "3.11.13",
      "mimetype": "text/x-python",
      "codemirror_mode": {
        "name": "ipython",
        "version": 3
      },
      "pygments_lexer": "ipython3",
      "nbconvert_exporter": "python",
      "file_extension": ".py"
    },
    "kaggle": {
      "accelerator": "none",
      "dataSources": [
        {
          "sourceId": 239866075,
          "sourceType": "kernelVersion"
        }
      ],
      "dockerImageVersionId": 31089,
      "isInternetEnabled": true,
      "language": "python",
      "sourceType": "notebook",
      "isGpuEnabled": false
    },
    "colab": {
      "provenance": [],
      "include_colab_link": true
    }
  },
  "nbformat_minor": 0,
  "nbformat": 4,
  "cells": [
    {
      "cell_type": "markdown",
      "metadata": {
        "id": "view-in-github",
        "colab_type": "text"
      },
      "source": [
        "<a href=\"https://colab.research.google.com/github/Ishita95-harvad/Geology-Forecast-Challenge/blob/main/geology_forecating_challenge.ipynb\" target=\"_parent\"><img src=\"https://colab.research.google.com/assets/colab-badge.svg\" alt=\"Open In Colab\"/></a>"
      ]
    },
    {
      "cell_type": "markdown",
      "source": [
        "# Geology Forecast Challenge\n",
        "![kaggle_91327_logos_header.png](data:image/png;base64,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)\n",
        "\n",
        "Your task is to create a data-driven model that predicts likely 1D layer-depth sequences based on formations where lateral wells are typical"
      ],
      "metadata": {
        "id": "w2rc7plendvj"
      }
    },
    {
      "cell_type": "code",
      "source": [
        "# This Python 3 environment comes with many helpful analytics libraries installed\n",
        "# It is defined by the kaggle/python Docker image: https://github.com/kaggle/docker-python\n",
        "# For example, here's several helpful packages to load\n",
        "\n",
        "import numpy as np # linear algebra\n",
        "import pandas as pd # data processing, CSV file I/O (e.g. pd.read_csv)\n",
        "\n",
        "# Input data files are available in the read-only \"../input/\" directory\n",
        "# For example, running this (by clicking run or pressing Shift+Enter) will list all files under the input directory\n",
        "\n",
        "import os\n",
        "for dirname, _, filenames in os.walk('/kaggle/input'):\n",
        "    for filename in filenames:\n",
        "        print(os.path.join(dirname, filename))\n",
        "\n",
        "# You can write up to 20GB to the current directory (/kaggle/working/) that gets preserved as output when you create a version using \"Save & Run All\"\n",
        "# You can also write temporary files to /kaggle/temp/, but they won't be saved outside of the current session"
      ],
      "metadata": {
        "_uuid": "8f2839f25d086af736a60e9eeb907d3b93b6e0e5",
        "_cell_guid": "b1076dfc-b9ad-4769-8c92-a6c4dae69d19",
        "trusted": true,
        "id": "7hbFC6M8nVdJ"
      },
      "outputs": [],
      "execution_count": 3
    },
    {
      "cell_type": "code",
      "source": [
        "!kaggle competitions download -c geology-forecast-challenge-open\n"
      ],
      "metadata": {
        "trusted": true,
        "execution": {
          "iopub.status.busy": "2025-07-31T17:56:27.705628Z",
          "iopub.execute_input": "2025-07-31T17:56:27.705930Z",
          "iopub.status.idle": "2025-07-31T17:56:28.519860Z",
          "shell.execute_reply.started": "2025-07-31T17:56:27.705908Z",
          "shell.execute_reply": "2025-07-31T17:56:28.518768Z"
        },
        "id": "Snd7amk3nVd8",
        "outputId": "0c203eee-0a95-40cf-b312-ec938cedf491",
        "colab": {
          "base_uri": "https://localhost:8080/"
        }
      },
      "outputs": [
        {
          "output_type": "stream",
          "name": "stdout",
          "text": [
            "Traceback (most recent call last):\n",
            "  File \"/usr/local/bin/kaggle\", line 4, in <module>\n",
            "    from kaggle.cli import main\n",
            "  File \"/usr/local/lib/python3.11/dist-packages/kaggle/__init__.py\", line 6, in <module>\n",
            "    api.authenticate()\n",
            "  File \"/usr/local/lib/python3.11/dist-packages/kaggle/api/kaggle_api_extended.py\", line 434, in authenticate\n",
            "    raise IOError('Could not find {}. Make sure it\\'s located in'\n",
            "OSError: Could not find kaggle.json. Make sure it's located in /root/.config/kaggle. Or use the environment method. See setup instructions at https://github.com/Kaggle/kaggle-api/\n"
          ]
        }
      ],
      "execution_count": 11
    },
    {
      "cell_type": "code",
      "source": [
        "!pip install pandas numpy scikit-learn matplotlib\n"
      ],
      "metadata": {
        "trusted": true,
        "execution": {
          "iopub.status.busy": "2025-07-31T17:58:00.299885Z",
          "iopub.execute_input": "2025-07-31T17:58:00.300200Z",
          "iopub.status.idle": "2025-07-31T17:58:05.239367Z",
          "shell.execute_reply.started": "2025-07-31T17:58:00.300174Z",
          "shell.execute_reply": "2025-07-31T17:58:05.238204Z"
        },
        "id": "LQD8wD7SnVet",
        "outputId": "7fc9af83-3e50-4bc5-97e9-7f8927224d17"
      },
      "outputs": [
        {
          "name": "stdout",
          "text": "Requirement already satisfied: pandas in /usr/local/lib/python3.11/dist-packages (2.2.3)\nRequirement already satisfied: numpy in /usr/local/lib/python3.11/dist-packages (1.26.4)\nRequirement already satisfied: scikit-learn in /usr/local/lib/python3.11/dist-packages (1.2.2)\nRequirement already satisfied: matplotlib in /usr/local/lib/python3.11/dist-packages (3.7.2)\nRequirement already satisfied: python-dateutil>=2.8.2 in /usr/local/lib/python3.11/dist-packages (from pandas) (2.9.0.post0)\nRequirement already satisfied: pytz>=2020.1 in /usr/local/lib/python3.11/dist-packages (from pandas) (2025.2)\nRequirement already satisfied: tzdata>=2022.7 in /usr/local/lib/python3.11/dist-packages (from pandas) (2025.2)\nRequirement already satisfied: mkl_fft in /usr/local/lib/python3.11/dist-packages (from numpy) (1.3.8)\nRequirement already satisfied: mkl_random in /usr/local/lib/python3.11/dist-packages (from numpy) (1.2.4)\nRequirement already satisfied: mkl_umath in /usr/local/lib/python3.11/dist-packages (from numpy) (0.1.1)\nRequirement already satisfied: mkl in /usr/local/lib/python3.11/dist-packages (from numpy) (2025.2.0)\nRequirement already satisfied: tbb4py in /usr/local/lib/python3.11/dist-packages (from numpy) (2022.2.0)\nRequirement already satisfied: mkl-service in /usr/local/lib/python3.11/dist-packages (from numpy) (2.4.1)\nRequirement already satisfied: scipy>=1.3.2 in /usr/local/lib/python3.11/dist-packages (from scikit-learn) (1.15.3)\nRequirement already satisfied: joblib>=1.1.1 in /usr/local/lib/python3.11/dist-packages (from scikit-learn) (1.5.1)\nRequirement already satisfied: threadpoolctl>=2.0.0 in /usr/local/lib/python3.11/dist-packages (from scikit-learn) (3.6.0)\nRequirement already satisfied: contourpy>=1.0.1 in /usr/local/lib/python3.11/dist-packages (from matplotlib) (1.3.2)\nRequirement already satisfied: cycler>=0.10 in /usr/local/lib/python3.11/dist-packages (from matplotlib) (0.12.1)\nRequirement already satisfied: fonttools>=4.22.0 in /usr/local/lib/python3.11/dist-packages (from matplotlib) (4.58.4)\nRequirement already satisfied: kiwisolver>=1.0.1 in /usr/local/lib/python3.11/dist-packages (from matplotlib) (1.4.8)\nRequirement already satisfied: packaging>=20.0 in /usr/local/lib/python3.11/dist-packages (from matplotlib) (25.0)\nRequirement already satisfied: pillow>=6.2.0 in /usr/local/lib/python3.11/dist-packages (from matplotlib) (11.2.1)\nRequirement already satisfied: pyparsing<3.1,>=2.3.1 in /usr/local/lib/python3.11/dist-packages (from matplotlib) (3.0.9)\nRequirement already satisfied: six>=1.5 in /usr/local/lib/python3.11/dist-packages (from python-dateutil>=2.8.2->pandas) (1.17.0)\nRequirement already satisfied: intel-openmp<2026,>=2024 in /usr/local/lib/python3.11/dist-packages (from mkl->numpy) (2024.2.0)\nRequirement already satisfied: tbb==2022.* in /usr/local/lib/python3.11/dist-packages (from mkl->numpy) (2022.2.0)\nRequirement already satisfied: tcmlib==1.* in /usr/local/lib/python3.11/dist-packages (from tbb==2022.*->mkl->numpy) (1.4.0)\nRequirement already satisfied: intel-cmplr-lib-rt in /usr/local/lib/python3.11/dist-packages (from mkl_umath->numpy) (2024.2.0)\nRequirement already satisfied: intel-cmplr-lib-ur==2024.2.0 in /usr/local/lib/python3.11/dist-packages (from intel-openmp<2026,>=2024->mkl->numpy) (2024.2.0)\n",
          "output_type": "stream"
        }
      ],
      "execution_count": null
    },
    {
      "cell_type": "code",
      "source": [
        "import pandas as pd\n",
        "import numpy as np\n",
        "from sklearn.model_selection import train_test_split\n",
        "from sklearn.ensemble import RandomForestRegressor\n",
        "from sklearn.metrics import mean_squared_error\n",
        "from sklearn.impute import SimpleImputer\n",
        "from sklearn.preprocessing import StandardScaler\n",
        "import matplotlib.pyplot as plt\n"
      ],
      "metadata": {
        "trusted": true,
        "execution": {
          "iopub.status.busy": "2025-07-31T17:58:15.677971Z",
          "iopub.execute_input": "2025-07-31T17:58:15.678310Z",
          "iopub.status.idle": "2025-07-31T17:58:15.683274Z",
          "shell.execute_reply.started": "2025-07-31T17:58:15.678284Z",
          "shell.execute_reply": "2025-07-31T17:58:15.682369Z"
        },
        "id": "T6xiRAeSnVe4"
      },
      "outputs": [],
      "execution_count": 4
    },
    {
      "cell_type": "code",
      "source": [
        "import pandas as pd\n",
        "import numpy as np\n",
        "import sklearn\n",
        "import matplotlib\n",
        "\n",
        "print(f\"Pandas version: {pd.__version__}\")\n",
        "print(f\"NumPy version: {np.__version__}\")\n",
        "print(f\"Scikit-learn version: {sklearn.__version__}\")\n",
        "print(f\"Matplotlib version: {matplotlib.__version__}\")\n"
      ],
      "metadata": {
        "trusted": true,
        "execution": {
          "iopub.status.busy": "2025-07-31T17:58:29.937951Z",
          "iopub.execute_input": "2025-07-31T17:58:29.938273Z",
          "iopub.status.idle": "2025-07-31T17:58:29.944624Z",
          "shell.execute_reply.started": "2025-07-31T17:58:29.938244Z",
          "shell.execute_reply": "2025-07-31T17:58:29.943638Z"
        },
        "id": "4QfM4H0ynVe9",
        "outputId": "e75f1ab4-4c3e-4fc4-975e-dc05e6fa6316",
        "colab": {
          "base_uri": "https://localhost:8080/"
        }
      },
      "outputs": [
        {
          "output_type": "stream",
          "name": "stdout",
          "text": [
            "Pandas version: 2.2.2\n",
            "NumPy version: 2.0.2\n",
            "Scikit-learn version: 1.6.1\n",
            "Matplotlib version: 3.10.0\n"
          ]
        }
      ],
      "execution_count": 5
    },
    {
      "cell_type": "code",
      "source": [
        "# Install necessary libraries\n",
        "!pip install pandas numpy scikit-learn matplotlib\n",
        "\n",
        "# Import libraries\n",
        "import pandas as pd\n",
        "import numpy as np\n",
        "from sklearn.model_selection import train_test_split\n",
        "from sklearn.ensemble import RandomForestRegressor\n",
        "from sklearn.metrics import mean_squared_error\n",
        "from sklearn.impute import SimpleImputer\n",
        "from sklearn.preprocessing import StandardScaler\n",
        "import matplotlib.pyplot as plt\n",
        "\n",
        "# Check library versions\n",
        "print(f\"Pandas version: {pd.__version__}\")\n",
        "print(f\"NumPy version: {np.__version__}\")\n",
        "print(f\"Scikit-learn version: {sklearn.__version__}\")\n",
        "print(f\"Matplotlib version: {matplotlib.__version__}\")\n"
      ],
      "metadata": {
        "trusted": true,
        "execution": {
          "iopub.status.busy": "2025-07-31T17:59:00.944692Z",
          "iopub.execute_input": "2025-07-31T17:59:00.945006Z",
          "iopub.status.idle": "2025-07-31T17:59:04.656142Z",
          "shell.execute_reply.started": "2025-07-31T17:59:00.944981Z",
          "shell.execute_reply": "2025-07-31T17:59:04.655047Z"
        },
        "id": "84hNxt1jnVfC",
        "outputId": "56e095b2-f315-4a8b-a474-3adff353755c",
        "colab": {
          "base_uri": "https://localhost:8080/"
        }
      },
      "outputs": [
        {
          "output_type": "stream",
          "name": "stdout",
          "text": [
            "Requirement already satisfied: pandas in /usr/local/lib/python3.11/dist-packages (2.2.2)\n",
            "Requirement already satisfied: numpy in /usr/local/lib/python3.11/dist-packages (2.0.2)\n",
            "Requirement already satisfied: scikit-learn in /usr/local/lib/python3.11/dist-packages (1.6.1)\n",
            "Requirement already satisfied: matplotlib in /usr/local/lib/python3.11/dist-packages (3.10.0)\n",
            "Requirement already satisfied: python-dateutil>=2.8.2 in /usr/local/lib/python3.11/dist-packages (from pandas) (2.9.0.post0)\n",
            "Requirement already satisfied: pytz>=2020.1 in /usr/local/lib/python3.11/dist-packages (from pandas) (2025.2)\n",
            "Requirement already satisfied: tzdata>=2022.7 in /usr/local/lib/python3.11/dist-packages (from pandas) (2025.2)\n",
            "Requirement already satisfied: scipy>=1.6.0 in /usr/local/lib/python3.11/dist-packages (from scikit-learn) (1.16.1)\n",
            "Requirement already satisfied: joblib>=1.2.0 in /usr/local/lib/python3.11/dist-packages (from scikit-learn) (1.5.1)\n",
            "Requirement already satisfied: threadpoolctl>=3.1.0 in /usr/local/lib/python3.11/dist-packages (from scikit-learn) (3.6.0)\n",
            "Requirement already satisfied: contourpy>=1.0.1 in /usr/local/lib/python3.11/dist-packages (from matplotlib) (1.3.3)\n",
            "Requirement already satisfied: cycler>=0.10 in /usr/local/lib/python3.11/dist-packages (from matplotlib) (0.12.1)\n",
            "Requirement already satisfied: fonttools>=4.22.0 in /usr/local/lib/python3.11/dist-packages (from matplotlib) (4.59.0)\n",
            "Requirement already satisfied: kiwisolver>=1.3.1 in /usr/local/lib/python3.11/dist-packages (from matplotlib) (1.4.8)\n",
            "Requirement already satisfied: packaging>=20.0 in /usr/local/lib/python3.11/dist-packages (from matplotlib) (25.0)\n",
            "Requirement already satisfied: pillow>=8 in /usr/local/lib/python3.11/dist-packages (from matplotlib) (11.3.0)\n",
            "Requirement already satisfied: pyparsing>=2.3.1 in /usr/local/lib/python3.11/dist-packages (from matplotlib) (3.2.3)\n",
            "Requirement already satisfied: six>=1.5 in /usr/local/lib/python3.11/dist-packages (from python-dateutil>=2.8.2->pandas) (1.17.0)\n",
            "Pandas version: 2.2.2\n",
            "NumPy version: 2.0.2\n",
            "Scikit-learn version: 1.6.1\n",
            "Matplotlib version: 3.10.0\n"
          ]
        }
      ],
      "execution_count": 6
    },
    {
      "cell_type": "code",
      "source": [
        "import pandas as pd\n",
        "import numpy as np\n",
        "from sklearn.impute import SimpleImputer\n",
        "from sklearn.preprocessing import StandardScaler\n",
        "from sklearn.model_selection import train_test_split\n",
        "from sklearn.ensemble import RandomForestRegressor\n",
        "from sklearn.metrics import mean_squared_error, r2_score\n",
        "\n",
        "# Create a synthetic dataset for demonstration\n",
        "np.random.seed(42)\n",
        "data = pd.DataFrame({\n",
        "    'feature_1': np.random.rand(100),\n",
        "    'feature_2': np.random.rand(100),\n",
        "    'target': np.random.rand(100)\n",
        "})\n",
        "\n",
        "# Separate features and target variable\n",
        "X = data.drop('target', axis=1)  # Features\n",
        "y = data['target']  # Target variable\n",
        "\n",
        "# Handle missing data (if any)\n",
        "imputer = SimpleImputer(strategy='mean')\n",
        "X_imputed = imputer.fit_transform(X)\n",
        "\n",
        "# Normalize/Standardize features\n",
        "scaler = StandardScaler()\n",
        "X_scaled = scaler.fit_transform(X_imputed)\n",
        "\n",
        "# Split the data into training and testing sets\n",
        "X_train, X_test, y_train, y_test = train_test_split(X_scaled, y, test_size=0.2, random_state=42)\n",
        "\n",
        "# Initialize the model\n",
        "model = RandomForestRegressor(n_estimators=100, random_state=42)\n",
        "\n",
        "# Train the model\n",
        "model.fit(X_train, y_train)\n",
        "\n",
        "# Make predictions on the testing set\n",
        "y_pred = model.predict(X_test)\n",
        "\n",
        "# Calculate Mean Squared Error\n",
        "mse = mean_squared_error(y_test, y_pred)\n",
        "print(f'Mean Squared Error: {mse}')\n",
        "\n",
        "# Calculate R-squared\n",
        "r2 = r2_score(y_test, y_pred)\n",
        "print(f'R-squared: {r2}')\n"
      ],
      "metadata": {
        "trusted": true,
        "execution": {
          "iopub.status.busy": "2025-07-31T18:06:59.411545Z",
          "iopub.execute_input": "2025-07-31T18:06:59.411829Z",
          "iopub.status.idle": "2025-07-31T18:06:59.576442Z",
          "shell.execute_reply.started": "2025-07-31T18:06:59.411805Z",
          "shell.execute_reply": "2025-07-31T18:06:59.575524Z"
        },
        "id": "4sJ8CfsWnVfJ",
        "outputId": "57dc4001-98ab-43e9-e526-19eb0c8de38a",
        "colab": {
          "base_uri": "https://localhost:8080/"
        }
      },
      "outputs": [
        {
          "output_type": "stream",
          "name": "stdout",
          "text": [
            "Mean Squared Error: 0.14493484239088647\n",
            "R-squared: -0.6244314792232237\n"
          ]
        }
      ],
      "execution_count": 7
    },
    {
      "cell_type": "code",
      "source": [
        "import pandas as pd\n",
        "import numpy as np\n",
        "from sklearn.impute import SimpleImputer\n",
        "from sklearn.preprocessing import StandardScaler\n",
        "from sklearn.model_selection import train_test_split\n",
        "from sklearn.ensemble import RandomForestRegressor\n",
        "from sklearn.metrics import mean_squared_error, r2_score, mean_absolute_error\n",
        "\n",
        "# Create a synthetic dataset for demonstration\n",
        "np.random.seed(42)\n",
        "data = pd.DataFrame({\n",
        "    'feature_1': np.random.rand(100),\n",
        "    'feature_2': np.random.rand(100),\n",
        "    'target': np.random.rand(100)\n",
        "})\n",
        "\n",
        "# Separate features and target variable\n",
        "X = data.drop('target', axis=1)  # Features\n",
        "y = data['target']  # Target variable\n",
        "\n",
        "# Handle missing data (if any)\n",
        "imputer = SimpleImputer(strategy='mean')\n",
        "X_imputed = imputer.fit_transform(X)\n",
        "\n",
        "# Normalize/Standardize features\n",
        "scaler = StandardScaler()\n",
        "X_scaled = scaler.fit_transform(X_imputed)\n",
        "\n",
        "# Split the data into training and testing sets\n",
        "X_train, X_test, y_train, y_test = train_test_split(X_scaled, y, test_size=0.2, random_state=42)\n",
        "\n",
        "# Initialize the model\n",
        "model = RandomForestRegressor(n_estimators=100, random_state=42)\n",
        "\n",
        "# Train the model\n",
        "model.fit(X_train, y_train)\n",
        "\n",
        "# Make predictions on the testing set\n",
        "y_pred = model.predict(X_test)\n",
        "\n",
        "# Calculate prediction metrics\n",
        "mse = mean_squared_error(y_test, y_pred)\n",
        "r2 = r2_score(y_test, y_pred)\n",
        "mae = mean_absolute_error(y_test, y_pred)\n",
        "\n",
        "# Create a dictionary to store the metrics\n",
        "metrics = {\n",
        "    'Mean Squared Error (MSE)': mse,\n",
        "    'R-squared (R²)': r2,\n",
        "    'Mean Absolute Error (MAE)': mae\n",
        "}\n",
        "\n",
        "# Display the metrics in a structured format\n",
        "metrics_df = pd.DataFrame(list(metrics.items()), columns=['Metric', 'Value'])\n",
        "print(metrics_df)\n"
      ],
      "metadata": {
        "trusted": true,
        "execution": {
          "iopub.status.busy": "2025-07-31T18:10:01.895712Z",
          "iopub.execute_input": "2025-07-31T18:10:01.896066Z",
          "iopub.status.idle": "2025-07-31T18:10:02.045928Z",
          "shell.execute_reply.started": "2025-07-31T18:10:01.896041Z",
          "shell.execute_reply": "2025-07-31T18:10:02.045054Z"
        },
        "id": "toqC_q5tnVfS",
        "outputId": "a5b6be81-7b7f-48d9-a070-61c88758b496",
        "colab": {
          "base_uri": "https://localhost:8080/"
        }
      },
      "outputs": [
        {
          "output_type": "stream",
          "name": "stdout",
          "text": [
            "                      Metric     Value\n",
            "0   Mean Squared Error (MSE)  0.144935\n",
            "1             R-squared (R²) -0.624431\n",
            "2  Mean Absolute Error (MAE)  0.316835\n"
          ]
        }
      ],
      "execution_count": 8
    },
    {
      "cell_type": "code",
      "source": [
        "import pandas as pd\n",
        "import numpy as np\n",
        "from sklearn.impute import SimpleImputer\n",
        "from sklearn.preprocessing import StandardScaler\n",
        "from sklearn.model_selection import train_test_split\n",
        "from sklearn.ensemble import RandomForestRegressor\n",
        "\n",
        "# Create a synthetic dataset for demonstration\n",
        "np.random.seed(42)\n",
        "data = pd.DataFrame({\n",
        "    'feature_1': np.random.rand(100),\n",
        "    'feature_2': np.random.rand(100),\n",
        "    'target': np.random.rand(100)\n",
        "})\n",
        "\n",
        "# Separate features and target variable\n",
        "X = data.drop('target', axis=1)  # Features\n",
        "y = data['target']  # Target variable\n",
        "\n",
        "# Handle missing data (if any)\n",
        "imputer = SimpleImputer(strategy='mean')\n",
        "X_imputed = imputer.fit_transform(X)\n",
        "\n",
        "# Normalize/Standardize features\n",
        "scaler = StandardScaler()\n",
        "X_scaled = scaler.fit_transform(X_imputed)\n",
        "\n",
        "# Split the data into training and testing sets\n",
        "X_train, X_test, y_train, y_test = train_test_split(X_scaled, y, test_size=0.2, random_state=42)\n",
        "\n",
        "# Initialize the model\n",
        "model = RandomForestRegressor(n_estimators=100, random_state=42)\n",
        "\n",
        "# Train the model\n",
        "model.fit(X_train, y_train)\n",
        "\n",
        "# Make predictions on the testing set\n",
        "y_pred = model.predict(X_test)\n",
        "\n",
        "# Create a DataFrame for submission\n",
        "# Assuming you have some IDs or indices for the test set\n",
        "# For demonstration, let's create some dummy IDs\n",
        "test_ids = np.arange(len(y_pred))\n",
        "\n",
        "# Create a DataFrame with the IDs and predictions\n",
        "submission_df = pd.DataFrame({\n",
        "    'id': test_ids,\n",
        "    'predicted_value': y_pred\n",
        "})\n",
        "\n",
        "# Save the submission DataFrame to a CSV file\n",
        "submission_df.to_csv('submission.csv', index=False)\n",
        "\n",
        "print(\"Submission file saved as submission.csv\")\n"
      ],
      "metadata": {
        "trusted": true,
        "execution": {
          "iopub.status.busy": "2025-07-31T18:13:09.163191Z",
          "iopub.execute_input": "2025-07-31T18:13:09.163561Z",
          "iopub.status.idle": "2025-07-31T18:13:09.330776Z",
          "shell.execute_reply.started": "2025-07-31T18:13:09.163533Z",
          "shell.execute_reply": "2025-07-31T18:13:09.329906Z"
        },
        "id": "1GLvDb3GnVfp",
        "outputId": "1aabd14c-3179-4194-fc8c-5449542c645b",
        "colab": {
          "base_uri": "https://localhost:8080/"
        }
      },
      "outputs": [
        {
          "output_type": "stream",
          "name": "stdout",
          "text": [
            "Submission file saved as submission.csv\n"
          ]
        }
      ],
      "execution_count": 9
    },
    {
      "cell_type": "markdown",
      "source": [
        "Print the code to data frame"
      ],
      "metadata": {
        "id": "OfCXeN7cnVfw"
      }
    },
    {
      "cell_type": "code",
      "source": [
        "import pandas as pd\n",
        "import numpy as np\n",
        "from sklearn.impute import SimpleImputer\n",
        "from sklearn.preprocessing import StandardScaler\n",
        "from sklearn.model_selection import train_test_split\n",
        "from sklearn.ensemble import RandomForestRegressor\n",
        "\n",
        "# Create a synthetic dataset for demonstration\n",
        "np.random.seed(42)\n",
        "data = pd.DataFrame({\n",
        "    'feature_1': np.random.rand(100),\n",
        "    'feature_2': np.random.rand(100),\n",
        "    'target': np.random.rand(100)\n",
        "})\n",
        "\n",
        "# Separate features and target variable\n",
        "X = data.drop('target', axis=1)  # Features\n",
        "y = data['target']  # Target variable\n",
        "\n",
        "# Handle missing data (if any)\n",
        "imputer = SimpleImputer(strategy='mean')\n",
        "X_imputed = imputer.fit_transform(X)\n",
        "\n",
        "# Normalize/Standardize features\n",
        "scaler = StandardScaler()\n",
        "X_scaled = scaler.fit_transform(X_imputed)\n",
        "\n",
        "# Split the data into training and testing sets\n",
        "X_train, X_test, y_train, y_test = train_test_split(X_scaled, y, test_size=0.2, random_state=42)\n",
        "\n",
        "# Initialize the model\n",
        "model = RandomForestRegressor(n_estimators=100, random_state=42)\n",
        "\n",
        "# Train the model\n",
        "model.fit(X_train, y_train)\n",
        "\n",
        "# Make predictions on the testing set\n",
        "y_pred = model.predict(X_test)\n",
        "\n",
        "# Create a DataFrame for submission\n",
        "# For demonstration, let's create some dummy IDs\n",
        "test_ids = np.arange(len(y_pred))\n",
        "\n",
        "# Create a DataFrame with the IDs and predictions\n",
        "submission_df = pd.DataFrame({\n",
        "    'id': test_ids,\n",
        "    'predicted_value': y_pred\n",
        "})\n",
        "\n",
        "# Print the DataFrame to show what will be saved in the CSV file\n",
        "print(submission_df)\n",
        "\n",
        "# Save the submission DataFrame to a CSV file\n",
        "submission_df.to_csv('submission.csv', index=False)\n",
        "\n",
        "print(\"Submission file saved as submission.csv\")\n"
      ],
      "metadata": {
        "trusted": true,
        "execution": {
          "iopub.status.busy": "2025-07-31T18:15:06.241559Z",
          "iopub.execute_input": "2025-07-31T18:15:06.241874Z",
          "iopub.status.idle": "2025-07-31T18:15:06.385927Z",
          "shell.execute_reply.started": "2025-07-31T18:15:06.241853Z",
          "shell.execute_reply": "2025-07-31T18:15:06.384933Z"
        },
        "id": "bBB5-qDhnVf6",
        "outputId": "ad58e62a-424d-4aae-d00e-d78daa72dd19",
        "colab": {
          "base_uri": "https://localhost:8080/"
        }
      },
      "outputs": [
        {
          "output_type": "stream",
          "name": "stdout",
          "text": [
            "    id  predicted_value\n",
            "0    0         0.477970\n",
            "1    1         0.405660\n",
            "2    2         0.276915\n",
            "3    3         0.546782\n",
            "4    4         0.763960\n",
            "5    5         0.432009\n",
            "6    6         0.704243\n",
            "7    7         0.450867\n",
            "8    8         0.597091\n",
            "9    9         0.610407\n",
            "10  10         0.327616\n",
            "11  11         0.526438\n",
            "12  12         0.527811\n",
            "13  13         0.414522\n",
            "14  14         0.654664\n",
            "15  15         0.484225\n",
            "16  16         0.294186\n",
            "17  17         0.347730\n",
            "18  18         0.452891\n",
            "19  19         0.491323\n",
            "Submission file saved as submission.csv\n"
          ]
        }
      ],
      "execution_count": 10
    }
  ]
}